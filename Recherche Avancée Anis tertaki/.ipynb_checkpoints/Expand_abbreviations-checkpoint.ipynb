{
 "cells": [
  {
   "cell_type": "markdown",
   "id": "1e92ea22",
   "metadata": {},
   "source": [
    "Cet algorithme étend les abréviations, \n",
    "\n",
    "nous avons une liste d'abréviations en anglais l'algo prend une phrase et chaque mot qu'il trouve correspond à une abréviation trouvée dans la liste le remplace par son extension comme ça nous pourrons l'utiliser dans la recherche plus facilement\n",
    "\n",
    "vous pouvez ajouter des éléments à la liste en français ou en anglais !"
   ]
  },
  {
   "cell_type": "code",
   "execution_count": 5,
   "id": "9e554d20",
   "metadata": {},
   "outputs": [],
   "source": [
    "abbreviations_dict = {\n",
    "    'ADH': 'Antidiuretic Hormone',\n",
    "    'AIDS': 'Acquired Immune Deficiency Syndrome',\n",
    "    'AMU': 'Atomic Mass Unit',\n",
    "    'AWACS': 'Airborne Warning and Control System',\n",
    "    'BASIC': 'Beginner\\'s All Purpose Symbolic Instruction Code',\n",
    "    'BCG': 'Bacillus Calmette-Guerin',\n",
    "    'BTU': 'British Thermal Unit',\n",
    "    'CCTV': 'Closed-Circuit Television',\n",
    "    'CFC': 'Chloro Fluoro Carbon',\n",
    "    'CNG': 'Compressed Natural Gas',\n",
    "    'CNS': 'Central Nervous System',\n",
    "    'CRO': 'Cathode-Ray Oscilloscope',\n",
    "    'CRT': 'Cathode Ray Tube',\n",
    "    'DDT': 'Dichloro Diphenyl Trichloroethane',\n",
    "    'DNA': 'Deoxyribonucleic Acid',\n",
    "    'EMF': 'Electromotive Force',\n",
    "    'FBTR': 'Fast Breeder Test Reactor',\n",
    "    'ICU': 'Intensive Care Unit',\n",
    "    'LASER': 'Light Amplification by Stimulated Emission of Radiation',\n",
    "    'LCD': 'Liquid Crystal Display',\n",
    "    'LED': 'Liquid Emitting Diode',\n",
    "    'LNG': 'Liquefied Natural Gas',\n",
    "    'LORAN': 'Long Range Navigation',\n",
    "    'LPG': 'Liquefied Petroleum Gas',\n",
    "    'MASER': 'Microwave Amplification by Stimulated Emission of Radiation',\n",
    "    'PVC': 'Polyvinyl Chloride',\n",
    "    'RADAR': 'Radio Detection and Ranging',\n",
    "    'RNA': 'Ribose Nucleic Acid',\n",
    "    'SARS': 'Severe Acute Respiratory Syndrome',\n",
    "    'SONAR': 'Sound Navigation and Ranging',\n",
    "    'STAR': 'Satellite for Telecommunication Applications and Research',\n",
    "    'STP': 'Standard Temperature and Pressure',\n",
    "    'TB': 'Tuberculosis',\n",
    "    'TFT': 'Thin Film Transistor',\n",
    "    'TNT': 'Tri Nitro Toulene',\n",
    "    'AGP': 'Accelerated Graphic Port',\n",
    "    'ALU': 'Arithmetic and Logic Unit',\n",
    "    'ASCII': 'American Standard Code for Information Interchange',\n",
    "    'BASIC': 'Beginner All Purpose Symbolic Instruction Code',\n",
    "    'BIOS': 'Basic Input and Output System',\n",
    "    'CAN': 'Campus Area Network',\n",
    "    'CCNA': 'Cisco Certified Network Associate',\n",
    "    'CD': 'Compact Disk',\n",
    "    'CEH': 'Certified Ethical Hacking',\n",
    "    'CMD': 'Command',\n",
    "    'CMOS': 'Complimentary Metaoxide Semi-Conductor',\n",
    "    'COBOL': 'Common Basic Oriented Language',\n",
    "    'CPU': 'Central Processing Unit',\n",
    "    'CSS': 'Cascading Style Sheets',\n",
    "    'DBMS': 'Database Management System',\n",
    "    'DDOS': 'Distribution Denial of Service',\n",
    "    'DIR': 'Directory',\n",
    "    'DOC': 'Document',\n",
    "    'DVD': 'Digital Versatile Disc',\n",
    "    'EDSAC': 'Electronic Dialog Storage Automatic Computer',\n",
    "    'FTP': 'File Transfer Protocol',\n",
    "    'GHZ': 'Gigahertz',\n",
    "    'GUI': 'Graphic User Interface',\n",
    "    'HDD': 'Harddisk Drive',\n",
    "    'HTML': 'Hypertext Markup Language',\n",
    "    'HTTP': 'Hypertext Transfer Protocol',\n",
    "    'HTTPS': 'Hypertext Transfer Protocol Secure',\n",
    "    'IC': 'Integrated Circuit',\n",
    "    'ICT': 'Information Communication Technology',\n",
    "    'IDE': 'Integrated Drive Electronics',\n",
    "    'IP': 'Internet Protocol',\n",
    "    'ISP': 'Internet Service Provider',\n",
    "    'LAN': 'Local Area Network',\n",
    "    'LSIC': 'Large Scale Integrated Circuit',\n",
    "    'MAC': 'Media Access Control',\n",
    "    'MAN': 'Metropolitan Area Network',\n",
    "    'MHZ': 'Megahertz',\n",
    "    'MICR': 'Magnetic-Ink Character Recognition',\n",
    "    'MOS': 'Metaoxide Semi-Conductor',\n",
    "    'OS': 'Operating System',\n",
    "    'PAN': 'Personal Area Network',\n",
    "    'PC': 'Personal Computer',\n",
    "    'PDF': 'Portable Document Format',\n",
    "    'PDT': 'Parallel Data Transmission',\n",
    "    'PHP': 'PHP Hypertext Preprocessor',\n",
    "    'PROM': 'Programmable Read Only Memory',\n",
    "    'RAM': 'Random Access Memory',\n",
    "    'RFI': 'Remote File Inclusion',\n",
    "    'ROM': 'Read only Memory',\n",
    "    'RW': 'Re-writeable',\n",
    "    'SDT': 'Serial Data Transmission',\n",
    "    'SEO': 'Search Engine Optimization',\n",
    "    'SIM': 'Subscriber Identification Module',\n",
    "    'SIMMs': 'Single in-line Memory Module',\n",
    "    'SQL': 'Structured Query Language',\n",
    "    'TCP': 'Transmission Control Protocol',\n",
    "    'UNIVAC': 'Universal Automatic Computer',\n",
    "    'URL': 'Universal Resource Locator',\n",
    "    'USB': 'Universal Serial Board',\n",
    "    'USSD': 'Unstructured Supplementary Service Data',\n",
    "    'VDU': 'Visual Display Unit',\n",
    "    'VGA': 'Visual Graphic Adaptor',\n",
    "    'VPN': 'Virtual Private Network',\n",
    "    'WAN': 'Wide Area Network',\n",
    "    'WLAN': 'Wide Area Network',\n",
    "    'WLAN': 'Wireless Local Area Network',\n",
    "    'WWW': 'World Wide Web',\n",
    "    'XML': 'Extensible Mark-up Language',\n",
    "    'XXS': 'Cross Site Scripting'\n",
    "}"
   ]
  },
  {
   "cell_type": "code",
   "execution_count": 2,
   "id": "71737f76",
   "metadata": {},
   "outputs": [],
   "source": [
    "def expand_abbreviations(text, abbreviations_dict):\n",
    "    # Convert the input text to uppercase for case-insensitive matching\n",
    "    text_upper = text.upper()\n",
    "\n",
    "    for abbreviation, expansion in abbreviations_dict.items():\n",
    "        # Convert the abbreviation to uppercase for case-insensitive matching\n",
    "        abbreviation_upper = abbreviation.upper()\n",
    "\n",
    "        # Replace the abbreviation in the input text with its expansion\n",
    "        text_upper = text_upper.replace(abbreviation_upper, expansion)\n",
    "\n",
    "    return text_upper"
   ]
  },
  {
   "cell_type": "code",
   "execution_count": 11,
   "id": "9a5dd7df",
   "metadata": {},
   "outputs": [],
   "source": [
    "user_input = \"Je recherche des cours sur les dBms; ADH; dnA;\"\n",
    "expanded_input = expand_abbreviations(user_input, abbreviations_dict)"
   ]
  },
  {
   "cell_type": "code",
   "execution_count": 12,
   "id": "2109e60e",
   "metadata": {},
   "outputs": [
    {
     "data": {
      "text/plain": [
       "'JE RECHERCHE DES COURS SUR LES Database Management System; Antidiuretic Hormone; Deoxyribonucleic Acid;'"
      ]
     },
     "execution_count": 12,
     "metadata": {},
     "output_type": "execute_result"
    }
   ],
   "source": [
    "expanded_input"
   ]
  }
 ],
 "metadata": {
  "kernelspec": {
   "display_name": "Python 3 (ipykernel)",
   "language": "python",
   "name": "python3"
  },
  "language_info": {
   "codemirror_mode": {
    "name": "ipython",
    "version": 3
   },
   "file_extension": ".py",
   "mimetype": "text/x-python",
   "name": "python",
   "nbconvert_exporter": "python",
   "pygments_lexer": "ipython3",
   "version": "3.11.4"
  }
 },
 "nbformat": 4,
 "nbformat_minor": 5
}
