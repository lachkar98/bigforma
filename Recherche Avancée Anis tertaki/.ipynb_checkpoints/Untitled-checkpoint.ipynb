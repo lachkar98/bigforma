{
 "cells": [
  {
   "cell_type": "code",
   "execution_count": 2,
   "id": "26892ffa",
   "metadata": {},
   "outputs": [
    {
     "name": "stdout",
     "output_type": "stream",
     "text": [
      "Installation réussie.\n"
     ]
    }
   ],
   "source": [
    "import subprocess\n",
    "\n",
    "def install_spacy_and_model():\n",
    "    try:\n",
    "        # Installe spaCy\n",
    "        subprocess.run(['pip', 'install', 'spacy'])\n",
    "\n",
    "        # Télécharge le modèle spaCy en français\n",
    "        subprocess.run(['python', '-m', 'spacy', 'download', 'fr_core_news_md'])\n",
    "\n",
    "        print(\"Installation réussie.\")\n",
    "    except Exception as e:\n",
    "        print(f\"Erreur lors de l'installation de spaCy : {e}\")\n",
    "\n",
    "if __name__ == \"__main__\":\n",
    "    install_spacy_and_model()"
   ]
  },
  {
   "cell_type": "code",
   "execution_count": 3,
   "id": "11c387e5",
   "metadata": {},
   "outputs": [],
   "source": [
    "import spacy\n",
    "from spacy.lang.fr import French"
   ]
  },
  {
   "cell_type": "code",
   "execution_count": 10,
   "id": "a86cff53",
   "metadata": {},
   "outputs": [
    {
     "name": "stderr",
     "output_type": "stream",
     "text": [
      "[nltk_data] Downloading package words to\n",
      "[nltk_data]     C:\\Users\\33753\\AppData\\Roaming\\nltk_data...\n",
      "[nltk_data]   Unzipping corpora\\words.zip.\n"
     ]
    }
   ],
   "source": [
    "import nltk\n",
    "nltk.download('words')\n",
    "\n",
    "# Dictionnaire de mots en anglais\n",
    "english_word_dict = set(nltk.corpus.words.words())"
   ]
  },
  {
   "cell_type": "code",
   "execution_count": 24,
   "id": "ea7e45d5",
   "metadata": {
    "scrolled": true
   },
   "outputs": [
    {
     "name": "stdout",
     "output_type": "stream",
     "text": [
      "235883\n"
     ]
    }
   ],
   "source": [
    "print(len(english_word_dict))"
   ]
  },
  {
   "cell_type": "code",
   "execution_count": 26,
   "id": "1602b8ed",
   "metadata": {},
   "outputs": [
    {
     "name": "stdout",
     "output_type": "stream",
     "text": [
      "Installation réussie.\n"
     ]
    }
   ],
   "source": [
    "import subprocess\n",
    "\n",
    "def install_fuzzywuzzy():\n",
    "    try:\n",
    "        # Installe le module fuzzywuzzy\n",
    "        subprocess.run(['pip', 'install', 'fuzzywuzzy'])\n",
    "\n",
    "        print(\"Installation réussie.\")\n",
    "    except Exception as e:\n",
    "        print(f\"Erreur lors de l'installation de fuzzywuzzy : {e}\")\n",
    "\n",
    "if __name__ == \"__main__\":\n",
    "    install_fuzzywuzzy()\n"
   ]
  },
  {
   "cell_type": "code",
   "execution_count": 31,
   "id": "d507ec9f",
   "metadata": {},
   "outputs": [
    {
     "name": "stderr",
     "output_type": "stream",
     "text": [
      "[nltk_data] Downloading package punkt to\n",
      "[nltk_data]     C:\\Users\\33753\\AppData\\Roaming\\nltk_data...\n",
      "[nltk_data]   Package punkt is already up-to-date!\n"
     ]
    },
    {
     "name": "stdout",
     "output_type": "stream",
     "text": [
      "Input Sentence: Thiss is an example sentance with somme speling mistkes.\n",
      "Corrected Sentence: hiss is an example entrance with some spelding mistake .\n"
     ]
    }
   ],
   "source": [
    "from fuzzywuzzy import fuzz\n",
    "\n",
    "nltk.download('punkt')\n",
    "\n",
    "\n",
    "# Dictionnaire de mots en anglais\n",
    "english_word_dict = set(nltk.corpus.words.words())\n",
    "\n",
    "def correct_spelling(word, dictionary, threshold=80):\n",
    "    # Utilisez l'algorithme de Levenshtein pour trouver des mots similaires dans le dictionnaire\n",
    "    suggestions = [corr_word for corr_word in dictionary if fuzz.ratio(word, corr_word) > threshold]\n",
    "\n",
    "    # Si une suggestion est trouvée, retournez la suggestion la plus similaire\n",
    "    if suggestions:\n",
    "        return max(suggestions, key=lambda x: fuzz.ratio(word, x))\n",
    "    else:\n",
    "        return word\n",
    "\n",
    "def correct_sentence(sentence, dictionary, threshold=50):\n",
    "    # Tokenize the sentence into words\n",
    "    words = nltk.word_tokenize(sentence)\n",
    "\n",
    "    # Correct each word in the sentence\n",
    "    corrected_words = [correct_spelling(word, dictionary, threshold) for word in words]\n",
    "\n",
    "    # Reconstruct the corrected sentence\n",
    "    corrected_sentence = ' '.join(corrected_words)\n",
    "\n",
    "    return corrected_sentence\n",
    "\n",
    "# Example of usage\n",
    "input_sentence = \"Thiss is an example sentance with somme speling mistkes.\"\n",
    "output_sentence = correct_sentence(input_sentence, english_word_dict)\n",
    "\n",
    "print(\"Input Sentence:\", input_sentence)\n",
    "print(\"Corrected Sentence:\", output_sentence)\n"
   ]
  },
  {
   "cell_type": "code",
   "execution_count": 36,
   "id": "9978444d",
   "metadata": {},
   "outputs": [
    {
     "name": "stderr",
     "output_type": "stream",
     "text": [
      "[nltk_data] Downloading package words to\n",
      "[nltk_data]     C:\\Users\\33753\\AppData\\Roaming\\nltk_data...\n",
      "[nltk_data]   Package words is already up-to-date!\n"
     ]
    },
    {
     "name": "stdout",
     "output_type": "stream",
     "text": [
      "Original Sentence: Thes are some words with speling errors.\n",
      "Corrected Sentence: synthetist are some neomodal with hospitableness episcopature .\n"
     ]
    }
   ],
   "source": [
    "import nltk\n",
    "from nltk.metrics import edit_distance\n",
    "from nltk.util import ngrams\n",
    "from nltk.corpus import words\n",
    "from collections import Counter\n",
    "\n",
    "nltk.download('words')\n",
    "\n",
    "# Dictionnaire de mots en anglais\n",
    "english_word_dict = set(words.words())\n",
    "\n",
    "def correct_spelling(word, dictionary, threshold=0.8):\n",
    "    # Check if the word is already in the dictionary\n",
    "    if word.lower() in dictionary:\n",
    "        return word\n",
    "\n",
    "    # If not, find similar words based on edit distance\n",
    "    similar_words = [w for w in dictionary if edit_distance(word, w) / max(len(word), len(w)) < threshold]\n",
    "\n",
    "    # If there are similar words, return the most frequent one\n",
    "    if similar_words:\n",
    "        return Counter(similar_words).most_common(1)[0][0]\n",
    "    else:\n",
    "        return word\n",
    "\n",
    "def correct_sentence(sentence, dictionary, threshold=0.8):\n",
    "    # Tokenize the sentence into words\n",
    "    tokens = nltk.word_tokenize(sentence)\n",
    "\n",
    "    # Correct each word in the sentence\n",
    "    corrected_tokens = [correct_spelling(word, dictionary, threshold) for word in tokens]\n",
    "\n",
    "    # Reconstruct the corrected sentence\n",
    "    corrected_sentence = ' '.join(corrected_tokens)\n",
    "\n",
    "    return corrected_sentence\n",
    "\n",
    "# Example usage\n",
    "input_sentence = \"Thes are some words with speling errors.\"\n",
    "corrected_sentence = correct_sentence(input_sentence, english_word_dict)\n",
    "print(\"Original Sentence:\", input_sentence)\n",
    "print(\"Corrected Sentence:\", corrected_sentence)\n"
   ]
  }
 ],
 "metadata": {
  "kernelspec": {
   "display_name": "Python 3 (ipykernel)",
   "language": "python",
   "name": "python3"
  },
  "language_info": {
   "codemirror_mode": {
    "name": "ipython",
    "version": 3
   },
   "file_extension": ".py",
   "mimetype": "text/x-python",
   "name": "python",
   "nbconvert_exporter": "python",
   "pygments_lexer": "ipython3",
   "version": "3.11.4"
  }
 },
 "nbformat": 4,
 "nbformat_minor": 5
}
