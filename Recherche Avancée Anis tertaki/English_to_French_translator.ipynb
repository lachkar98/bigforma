{
 "cells": [
  {
   "cell_type": "markdown",
   "id": "a6aa060f",
   "metadata": {},
   "source": [
    "Il faut installer les modules \"langdetect\" et \"googletrans\" sur jupyter\n",
    "pour moi je tape directement sur le bash d'anaconda :\n",
    "\n",
    "    pip install langdetect googletrans==4.0.0-rc1\n",
    "\n",
    "débrouillez vous pour ça ! sinon y a ce script qui pourra peut etre vous aider :\n",
    "\n"
   ]
  },
  {
   "cell_type": "code",
   "execution_count": 13,
   "id": "73444208",
   "metadata": {},
   "outputs": [
    {
     "name": "stdout",
     "output_type": "stream",
     "text": [
      "Installation réussie.\n"
     ]
    }
   ],
   "source": [
    "import subprocess\n",
    "\n",
    "def install_libraries():\n",
    "    try:\n",
    "        # Installe les bibliothèques nécessaires\n",
    "        subprocess.run(['pip', 'install', 'langdetect', 'googletrans==4.0.0-rc1'])\n",
    "\n",
    "        print(\"Installation réussie.\")\n",
    "    except Exception as e:\n",
    "        print(f\"Erreur lors de l'installation des bibliothèques : {e}\")\n",
    "\n",
    "if __name__ == \"__main__\":\n",
    "    install_libraries()\n",
    "\n",
    "\n",
    "\n"
   ]
  },
  {
   "cell_type": "code",
   "execution_count": 12,
   "id": "06169d23",
   "metadata": {},
   "outputs": [
    {
     "name": "stdout",
     "output_type": "stream",
     "text": [
      "User Input: I am looking for cours de programtion\n",
      "Translated Input: Je recherche des cours de programmation\n"
     ]
    }
   ],
   "source": [
    "from langdetect import detect\n",
    "from googletrans import Translator\n",
    "\n",
    "def detect_and_translate(text, target_language='fr'):\n",
    "    # Détection de la langue\n",
    "    detected_language = detect(text)\n",
    "\n",
    "    # Traduction si la langue détectée n'est pas le français\n",
    "    if detected_language != 'fr':\n",
    "        translator = Translator()\n",
    "        translation = translator.translate(text, dest=target_language)\n",
    "        translated_text = translation.text\n",
    "    else:\n",
    "        translated_text = text\n",
    "\n",
    "    return translated_text\n",
    "\n",
    "# Exemple d'utilisation\n",
    "user_input = \"I am looking for cours de programtion\"\n",
    "translated_input = detect_and_translate(user_input)\n",
    "\n",
    "print(f\"User Input: {user_input}\")\n",
    "print(f\"Translated Input: {translated_input}\")\n"
   ]
  }
 ],
 "metadata": {
  "kernelspec": {
   "display_name": "Python 3 (ipykernel)",
   "language": "python",
   "name": "python3"
  },
  "language_info": {
   "codemirror_mode": {
    "name": "ipython",
    "version": 3
   },
   "file_extension": ".py",
   "mimetype": "text/x-python",
   "name": "python",
   "nbconvert_exporter": "python",
   "pygments_lexer": "ipython3",
   "version": "3.11.4"
  }
 },
 "nbformat": 4,
 "nbformat_minor": 5
}
