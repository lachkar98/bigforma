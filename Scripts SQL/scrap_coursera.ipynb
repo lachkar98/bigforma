{
  "cells": [
    {
      "cell_type": "markdown",
      "metadata": {},
      "source": [
        "Coursera File Scraping"
      ]
    },
    {
      "cell_type": "markdown",
      "metadata": {},
      "source": [
        "# importation "
      ]
    },
    {
      "cell_type": "code",
      "execution_count": 1,
      "metadata": {
        "id": "GWjnSc6JpMt7"
      },
      "outputs": [],
      "source": [
        "import requests\n",
        "from bs4 import BeautifulSoup\n",
        "import json\n",
        "\n",
        "organisation_offer = []\n",
        "course_titles = []\n",
        "review = []\n",
        "number_reviews = []\n",
        "\n",
        "session = requests.Session()\n",
        "\n",
        "# Set headers for French language\n",
        "session.headers.update({'Accept-Language': 'fr-FR'})\n",
        "\n",
        "def extract_course_info(div_element, class_name, index):\n",
        "    try:\n",
        "        element = div_element.find_all(class_=class_name)[index]\n",
        "        return element.get_text().strip()\n",
        "    except:\n",
        "        return \"None\"\n",
        "\n",
        "\n",
        "for i in range(2):\n",
        "\n",
        "    headers = {'Accept-Language': 'fr-FR'}\n",
        "    url = \"https://www.coursera.org/courses?page=\" + str(i) + \"&index=prod_all_products_term_optimization\"\n",
        "    page = session.get(url,headers=headers)\n",
        "    soup = BeautifulSoup(page.content, 'lxml')\n",
        "\n",
        "    for j in range(0,12):\n",
        "        # Organisation offering\n",
        "        org_offer = extract_course_info(soup, 'cds-119 cds-ProductCard-partnerNames css-dmxkm1 cds-121', j)\n",
        "        organisation_offer.append(org_offer)\n",
        "\n",
        "        # Course titles\n",
        "        title = extract_course_info(soup, 'cds-119 cds-CommonCard-title css-e7lgfl cds-121', j)\n",
        "        course_titles.append(title)\n",
        "\n",
        "        # Course reviews\n",
        "        course_review = extract_course_info(soup, 'cds-119 css-11uuo4b cds-121', j)\n",
        "        review.append(course_review)\n",
        "\n",
        "        # Number of reviews\n",
        "        #num_reviews = extract_course_info(soup, 'cds-119 cds-Typography-base css-dmxkm1 cds-121', j)\n",
        "        #number_reviews.append(num_reviews)\n",
        "\n",
        "\n",
        "        # Number of reviews\n",
        "        try :\n",
        "          a=soup.find_all('div',class_='product-reviews css-pn23ng')[j]\n",
        "          b=a.find('p',class_='cds-119 cds-Typography-base css-dmxkm1 cds-121').get_text()\n",
        "          number_reviews.append(b)\n",
        "        except (AttributeError, IndexError):\n",
        "          number_reviews.append('None')\n",
        "\n",
        "\n",
        "\n",
        "\n",
        "\n",
        "\n",
        "# Continue with the rest of your code\n"
      ]
    },
    {
      "cell_type": "code",
      "execution_count": null,
      "metadata": {
        "colab": {
          "base_uri": "https://localhost:8080/"
        },
        "id": "PRQuUJW1CNFR",
        "outputId": "ba77dd4e-31f1-42cb-baa0-c38aae46da64"
      },
      "outputs": [
        {
          "data": {
            "text/plain": [
              "['Google Cybersecurity',\n",
              " 'Google Data Analytics',\n",
              " 'Google Project Management:',\n",
              " 'IBM Data Science',\n",
              " 'Google Digital Marketing & E-commerce',\n",
              " 'Google UX Design',\n",
              " 'Google IT Support',\n",
              " 'IBM Data Analyst',\n",
              " 'Machine Learning',\n",
              " 'Introduction to Data Science',\n",
              " 'IBM DevOps and Software Engineering',\n",
              " 'Key Technologies for Business',\n",
              " 'Google Cybersecurity',\n",
              " 'Google Data Analytics',\n",
              " 'Google Project Management:',\n",
              " 'IBM Data Science',\n",
              " 'Google Digital Marketing & E-commerce',\n",
              " 'Google UX Design',\n",
              " 'Google IT Support',\n",
              " 'IBM Data Analyst',\n",
              " 'Machine Learning',\n",
              " 'Introduction to Data Science',\n",
              " 'IBM DevOps and Software Engineering',\n",
              " 'Key Technologies for Business']"
            ]
          },
          "execution_count": 5,
          "metadata": {},
          "output_type": "execute_result"
        }
      ],
      "source": [
        "course_titles"
      ]
    },
    {
      "cell_type": "code",
      "execution_count": null,
      "metadata": {
        "colab": {
          "base_uri": "https://localhost:8080/"
        },
        "id": "x1tgynfKxFXn",
        "outputId": "76a33ae7-b359-45c6-ea0a-101684f23d90"
      },
      "outputs": [
        {
          "data": {
            "text/plain": [
              "24"
            ]
          },
          "execution_count": 2,
          "metadata": {},
          "output_type": "execute_result"
        }
      ],
      "source": [
        "len(organisation_offer)"
      ]
    },
    {
      "cell_type": "code",
      "execution_count": null,
      "metadata": {
        "id": "Grz3VJ32tCbZ"
      },
      "outputs": [],
      "source": [
        "import requests\n",
        "from bs4 import BeautifulSoup\n",
        "import json\n",
        "\n",
        "\n",
        "session = requests.Session()"
      ]
    },
    {
      "cell_type": "code",
      "execution_count": null,
      "metadata": {
        "id": "LqcYoJovFUeh"
      },
      "outputs": [],
      "source": [
        "courses_URLs=[]\n",
        "\n",
        "for i in range(2) :\n",
        "  headers = {'Accept-Language': 'fr-FR'}\n",
        "  url = \"https://www.coursera.org/courses?page=\" + str(i) + \"&index=prod_all_products_term_optimization\"\n",
        "  page = session.get(url,headers=headers)\n",
        "  soup = BeautifulSoup(page.content, 'lxml')\n",
        "\n",
        "\n",
        "\n",
        "  script_tag = soup.find('script', type='application/ld+json')\n",
        "\n",
        "  if script_tag:\n",
        "    data = json.loads(script_tag.string)\n",
        "\n",
        "    if data.get('@type') == 'ItemList' and 'itemListElement' in data:\n",
        "        for item in data['itemListElement']:\n",
        "            if 'url' in item:\n",
        "                course_url = item['url']\n",
        "                courses_URLs.append(course_url)\n"
      ]
    },
    {
      "cell_type": "code",
      "execution_count": null,
      "metadata": {
        "colab": {
          "base_uri": "https://localhost:8080/"
        },
        "id": "VS4VoDOCtCZR",
        "outputId": "b72ef7b5-d37a-42ba-cbed-daffea72e11e"
      },
      "outputs": [
        {
          "data": {
            "text/plain": [
              "120"
            ]
          },
          "execution_count": 10,
          "metadata": {},
          "output_type": "execute_result"
        }
      ],
      "source": [
        "len(courses_URLs)"
      ]
    },
    {
      "cell_type": "code",
      "execution_count": null,
      "metadata": {
        "colab": {
          "base_uri": "https://localhost:8080/"
        },
        "id": "JsEIAANvCb_-",
        "outputId": "49061728-c3d1-47fe-c3dd-4e28e4a02eff"
      },
      "outputs": [
        {
          "data": {
            "text/plain": [
              "['https://www.coursera.org/professional-certificates/google-cybersecurity',\n",
              " 'https://www.coursera.org/professional-certificates/google-data-analytics',\n",
              " 'https://www.coursera.org/professional-certificates/google-project-management',\n",
              " 'https://www.coursera.org/professional-certificates/ibm-data-science',\n",
              " 'https://www.coursera.org/professional-certificates/google-digital-marketing-ecommerce',\n",
              " 'https://www.coursera.org/professional-certificates/google-ux-design',\n",
              " 'https://www.coursera.org/professional-certificates/google-it-support',\n",
              " 'https://www.coursera.org/professional-certificates/ibm-data-analyst',\n",
              " 'https://www.coursera.org/specializations/machine-learning-introduction',\n",
              " 'https://www.coursera.org/specializations/introduction-data-science',\n",
              " 'https://www.coursera.org/professional-certificates/devops-and-software-engineering',\n",
              " 'https://www.coursera.org/specializations/key-technologies-for-business',\n",
              " 'https://www.coursera.org/professional-certificates/google-cybersecurity',\n",
              " 'https://www.coursera.org/professional-certificates/google-data-analytics',\n",
              " 'https://www.coursera.org/professional-certificates/google-project-management',\n",
              " 'https://www.coursera.org/professional-certificates/ibm-data-science',\n",
              " 'https://www.coursera.org/professional-certificates/google-digital-marketing-ecommerce',\n",
              " 'https://www.coursera.org/professional-certificates/google-ux-design',\n",
              " 'https://www.coursera.org/professional-certificates/google-it-support',\n",
              " 'https://www.coursera.org/professional-certificates/ibm-data-analyst',\n",
              " 'https://www.coursera.org/specializations/machine-learning-introduction',\n",
              " 'https://www.coursera.org/specializations/introduction-data-science',\n",
              " 'https://www.coursera.org/professional-certificates/devops-and-software-engineering',\n",
              " 'https://www.coursera.org/specializations/key-technologies-for-business',\n",
              " 'https://www.coursera.org/professional-certificates/ibm-full-stack-cloud-developer',\n",
              " 'https://www.coursera.org/specializations/data-science-fundamentals-python-sql',\n",
              " 'https://www.coursera.org/professional-certificates/applied-artifical-intelligence-ibm-watson-ai',\n",
              " 'https://www.coursera.org/professional-certificates/ibm-data-engineer',\n",
              " 'https://www.coursera.org/specializations/digital-strategy',\n",
              " 'https://www.coursera.org/specializations/prompt-engineering',\n",
              " 'https://www.coursera.org/professional-certificates/ibm-data-analyst-r-excel',\n",
              " 'https://www.coursera.org/specializations/deep-learning',\n",
              " 'https://www.coursera.org/specializations/data-engineering-foundations',\n",
              " 'https://www.coursera.org/specializations/ibm-ai-foundations-for-business',\n",
              " 'https://www.coursera.org/specializations/data-analysis-visualization-foundations',\n",
              " 'https://www.coursera.org/professional-certificates/ibm-backend-development',\n",
              " 'https://www.coursera.org/specializations/applied-data-science',\n",
              " 'https://www.coursera.org/specializations/software-engineering-fundamentals',\n",
              " 'https://www.coursera.org/learn/generative-ai-for-everyone',\n",
              " 'https://www.coursera.org/learn/generative-ai-with-llms',\n",
              " 'https://www.coursera.org/specializations/ai-foundations-for-everyone',\n",
              " 'https://www.coursera.org/professional-certificates/google-advanced-data-analytics',\n",
              " 'https://www.coursera.org/specializations/ibm-cloud-application-development-foundations',\n",
              " 'https://www.coursera.org/specializations/devops-cloud-and-agile-foundations',\n",
              " 'https://www.coursera.org/learn/foundations-of-cybersecurity',\n",
              " 'https://www.coursera.org/professional-certificates/ibm-technical-support',\n",
              " 'https://www.coursera.org/professional-certificates/ibm-isc2-cybersecurity-specialist',\n",
              " 'https://www.coursera.org/professional-certificates/ibm-it-project-manager',\n",
              " 'https://www.coursera.org/professional-certificates/meta-front-end-developer',\n",
              " 'https://www.coursera.org/learn/project-management-foundations',\n",
              " 'https://www.coursera.org/specializations/it-cloud-fundamentals',\n",
              " 'https://www.coursera.org/learn/foundations-data',\n",
              " 'https://www.coursera.org/professional-certificates/data-warehouse-engineering',\n",
              " 'https://www.coursera.org/professional-certificates/microsoft-power-bi-data-analyst',\n",
              " 'https://www.coursera.org/learn/machine-learning',\n",
              " 'https://www.coursera.org/professional-certificates/ai-engineer',\n",
              " 'https://www.coursera.org/learn/ai-for-everyone',\n",
              " 'https://www.coursera.org/professional-certificates/google-it-automation',\n",
              " 'https://www.coursera.org/professional-certificates/ibm-project-manager',\n",
              " 'https://www.coursera.org/professional-certificates/ibm-frontend-developer',\n",
              " 'https://www.coursera.org/specializations/bi-foundations-sql-etl-data-warehouse',\n",
              " 'https://www.coursera.org/professional-certificates/ibm-it-scrum-master',\n",
              " 'https://www.coursera.org/specializations/mathematics-for-machine-learning-and-data-science',\n",
              " 'https://www.coursera.org/professional-certificates/ibm-cybersecurity-analyst',\n",
              " 'https://www.coursera.org/professional-certificates/ibm-applied-devops-engineering',\n",
              " 'https://www.coursera.org/specializations/generative-ai-for-everyone',\n",
              " 'https://www.coursera.org/specializations/wharton-business-foundations',\n",
              " 'https://www.coursera.org/learn/technical-support-fundamentals',\n",
              " 'https://www.coursera.org/specializations/ai-healthcare',\n",
              " 'https://www.coursera.org/specializations/python',\n",
              " 'https://www.coursera.org/learn/prompt-engineering',\n",
              " 'https://www.coursera.org/professional-certificates/facebook-social-media-marketing',\n",
              " 'https://www.coursera.org/specializations/it-fundamentals-cybersecurity',\n",
              " 'https://www.coursera.org/specializations/meta-react-native',\n",
              " 'https://www.coursera.org/learn/manage-security-risks',\n",
              " 'https://www.coursera.org/specializations/finance-accounting',\n",
              " 'https://www.coursera.org/learn/foundations-of-digital-marketing-and-e-commerce',\n",
              " 'https://www.coursera.org/specializations/finance-quantitative-modeling-analysts',\n",
              " 'https://www.coursera.org/specializations/machine-learning-engineering-for-production-mlops',\n",
              " 'https://www.coursera.org/professional-certificates/tensorflow-in-practice',\n",
              " 'https://www.coursera.org/specializations/ai-for-business-wharton',\n",
              " 'https://www.coursera.org/professional-certificates/meta-android-developer',\n",
              " 'https://www.coursera.org/specializations/natural-language-processing',\n",
              " 'https://www.coursera.org/learn/foundations-user-experience-design',\n",
              " 'https://www.coursera.org/professional-certificates/meta-back-end-developer',\n",
              " 'https://www.coursera.org/professional-certificates/meta-ios-developer',\n",
              " 'https://www.coursera.org/professional-certificates/gcp-cloud-architect',\n",
              " 'https://www.coursera.org/professional-certificates/intuit-bookkeeping',\n",
              " 'https://www.coursera.org/specializations/wharton-business-financial-modeling',\n",
              " 'https://www.coursera.org/professional-certificates/cloud-engineering-gcp',\n",
              " 'https://www.coursera.org/learn/ask-questions-make-decisions',\n",
              " 'https://www.coursera.org/learn/project-initiation-google',\n",
              " 'https://www.coursera.org/professional-certificates/google-business-intelligence',\n",
              " 'https://www.coursera.org/specializations/gcp-architecture',\n",
              " 'https://www.coursera.org/professional-certificates/meta-database-engineer',\n",
              " 'https://www.coursera.org/learn/google-cbrs-cpi-training',\n",
              " 'https://www.coursera.org/professional-certificates/microsoft-cybersecurity-analyst',\n",
              " 'https://www.coursera.org/learn/networks-and-network-security',\n",
              " 'https://www.coursera.org/professional-certificates/preparing-for-google-cloud-machine-learning-engineer-professional-certificate',\n",
              " 'https://www.coursera.org/professional-certificates/sap-technology-consultant',\n",
              " 'https://www.coursera.org/professional-certificates/hrci-human-resource-associate',\n",
              " 'https://www.coursera.org/professional-certificates/analisis-de-datos-de-google',\n",
              " 'https://www.coursera.org/professional-certificates/ciberseguridad-de-google',\n",
              " 'https://www.coursera.org/learn/computer-networking',\n",
              " 'https://www.coursera.org/professional-certificates/ibm-machine-learning',\n",
              " 'https://www.coursera.org/learn/financial-markets-global',\n",
              " 'https://www.coursera.org/learn/advanced-learning-algorithms',\n",
              " 'https://www.coursera.org/professional-certificates/sre-devops-engineer-google-cloud',\n",
              " 'https://www.coursera.org/specializations/architecting-google-kubernetes-engine',\n",
              " 'https://www.coursera.org/specializations/business-analytics',\n",
              " 'https://www.coursera.org/professional-certificates/gcp-data-engineering',\n",
              " 'https://www.coursera.org/professional-certificates/google-cloud-security',\n",
              " 'https://www.coursera.org/professional-certificates/google-cloud-developer',\n",
              " 'https://www.coursera.org/specializations/ibm-intro-machine-learning',\n",
              " 'https://www.coursera.org/learn/indigenous-canada',\n",
              " 'https://www.coursera.org/specializations/gcp-data-machine-learning',\n",
              " 'https://www.coursera.org/learn/neural-networks-deep-learning',\n",
              " 'https://www.coursera.org/specializations/microsoft-365-fundamentals',\n",
              " 'https://www.coursera.org/specializations/google-cloud-database-engineer',\n",
              " 'https://www.coursera.org/specializations/materiality-esg-factors']"
            ]
          },
          "execution_count": 11,
          "metadata": {},
          "output_type": "execute_result"
        }
      ],
      "source": [
        "courses_URLs"
      ]
    },
    {
      "cell_type": "code",
      "execution_count": null,
      "metadata": {
        "colab": {
          "base_uri": "https://localhost:8080/"
        },
        "id": "FZi_X086ESuB",
        "outputId": "00f5718f-6b9e-4b81-8332-fcdc5111457e"
      },
      "outputs": [
        {
          "data": {
            "text/plain": [
              "240"
            ]
          },
          "execution_count": 4,
          "metadata": {},
          "output_type": "execute_result"
        }
      ],
      "source": [
        "len(courses_URLs)\n"
      ]
    },
    {
      "cell_type": "code",
      "execution_count": null,
      "metadata": {
        "id": "VUi4H9EURlUE"
      },
      "outputs": [],
      "source": []
    },
    {
      "cell_type": "code",
      "execution_count": null,
      "metadata": {
        "id": "byTaoCcZRlVy"
      },
      "outputs": [],
      "source": []
    },
    {
      "cell_type": "code",
      "execution_count": null,
      "metadata": {
        "id": "XYUwPDPnGZKG"
      },
      "outputs": [],
      "source": []
    },
    {
      "cell_type": "code",
      "execution_count": null,
      "metadata": {
        "id": "Bg4OhOhdVYJu"
      },
      "outputs": [],
      "source": []
    },
    {
      "cell_type": "code",
      "execution_count": null,
      "metadata": {
        "id": "_95c_c6C3thw"
      },
      "outputs": [],
      "source": [
        "import requests\n",
        "from bs4 import BeautifulSoup\n",
        "\n",
        "course_descrip = []\n",
        "instructors = []\n",
        "number_enrolled = []\n",
        "duration = []\n",
        "Domaines = []\n",
        "sous_domaines = []\n",
        "chapters_listed = []\n",
        "SYG_listed = []\n",
        "difficulty=[]\n",
        "\n",
        "# Iterate through each course URL\n",
        "\n",
        "\n",
        "for i,url in enumerate(courses_URLs):\n",
        "    print(f\"Traitement du cours {i+1}/{len(courses_URLs)} : {url}\")\n",
        "\n",
        "    SYG = []\n",
        "    chapters = []\n",
        "\n",
        "    # Send an HTTP GET request to the course URL\n",
        "    response = requests.get(url)\n",
        "\n",
        "    if response.status_code == 200:\n",
        "        # Parse the HTML content of the course page\n",
        "        soup = BeautifulSoup(response.text, 'html.parser')\n",
        "\n",
        "\n",
        "\n",
        "\n",
        "\n",
        "\n",
        "        #Difficulty\n",
        "        try :\n",
        "          div1 = soup.find_all('div', class_='css-1r9afu3')\n",
        "          div2=div1[0].find_all('div',class_='css-lt1dx1')\n",
        "          div3=div2[0].find_all('div',class_='cds-119 cds-Typography-base css-h1jogs cds-121')\n",
        "          div4=div3[1].get_text()\n",
        "          difficulty.append(div4)\n",
        "        except (AttributeError, IndexError):\n",
        "            difficulty.append('None')\n",
        "\n",
        "\n",
        "        #Course_description\n",
        "        try :\n",
        "\n",
        "          div1 = soup.find_all('div', class_='cds-1 css-1cxrrkn cds-2 cds-7')\n",
        "          div2=div1[1].find_all('div',class_='css-kd6yq1')\n",
        "          div3=div2[0].find('p',class_='cds-119 cds-Typography-base css-80vnnb cds-121').get_text()\n",
        "          course_descrip.append(div3)\n",
        "        except (AttributeError, IndexError):\n",
        "          course_descrip.append('None')\n",
        "\n",
        "        try:\n",
        "            # Instructor\n",
        "            div1 = soup.find('span', class_='cds-119 cds-Typography-base css-80vnnb cds-121').get_text()\n",
        "            instructors.append(div1)\n",
        "        except AttributeError:\n",
        "            instructors.append('None')\n",
        "\n",
        "        try:\n",
        "            # Number enrolling\n",
        "            div1 = soup.find_all('div', class_='css-kd6yq1')\n",
        "            div2=div1[1].find('p',class_='cds-119 cds-Typography-base css-80vnnb cds-121')\n",
        "            number = div2.find('span').get_text()\n",
        "            number_enrolled.append(number)\n",
        "        except (AttributeError, IndexError):\n",
        "            number_enrolled.append('None')\n",
        "\n",
        "        try:\n",
        "            # Detailed duration\n",
        "            div1 = soup.find_all('div', class_='css-lt1dx1')\n",
        "            div2 = div1[1].find_all('div', class_='cds-119 cds-Typography-base css-h1jogs cds-121')\n",
        "            duration.append(div2[2].get_text())\n",
        "        except (AttributeError, IndexError):\n",
        "            duration.append('None')\n",
        "\n",
        "        # Skill you'll gain\n",
        "        try :\n",
        "          div1 = soup.find_all('span', class_='cds-119 cds-Typography-base css-18p0rob cds-121')\n",
        "          for i in range(len(div1)):\n",
        "              SYG.append(div1[i].get_text())\n",
        "\n",
        "          SYG_listed.append(SYG)\n",
        "\n",
        "        except (AttributeError, IndexError):\n",
        "          SYG_listed.append('None')\n",
        "\n",
        "\n",
        "\n",
        "\n",
        "        # Chapters\n",
        "        try :\n",
        "          div1 = soup.find_all('h3', class_='cds-119 cds-Typography-base css-h1jogs cds-121')\n",
        "          for i in range(len(div1)):\n",
        "              if div1[i].find('a') is not None:\n",
        "                  div2 = div1[i].find('a').get_text()\n",
        "                  chapters.append(div2)\n",
        "          chapters_listed.append(chapters)\n",
        "        except (AttributeError, IndexError):\n",
        "          chapters_listed.append('None')\n",
        "\n",
        "\n",
        "\n",
        "        # Domaine et sous domaines\n",
        "        div_element1 = soup.find_all('div', class_=\"cds-9 css-0 cds-11 cds-grid-item cds-52\")\n",
        "        div_element2 = div_element1[0].find_all('a', class_=\"cds-119 cds-113 cds-115 cds-breadcrumbs-link css-seqyon cds-142\")\n",
        "        b = []\n",
        "        for i in range(len(div_element2)):\n",
        "            b.append(div_element2[i].get_text())\n",
        "\n",
        "        try:\n",
        "            Domaines.append(b[1])\n",
        "            sous_domaines.append(b[2])\n",
        "        except IndexError:\n",
        "            Domaines.append('None')\n",
        "            sous_domaines.append('None')\n"
      ]
    },
    {
      "cell_type": "code",
      "execution_count": null,
      "metadata": {
        "id": "WwvvyvkGJpb6"
      },
      "outputs": [],
      "source": []
    },
    {
      "cell_type": "code",
      "execution_count": null,
      "metadata": {
        "id": "0-M7fioLRv96"
      },
      "outputs": [],
      "source": []
    },
    {
      "cell_type": "code",
      "execution_count": null,
      "metadata": {
        "id": "X9bnaOXERwAA"
      },
      "outputs": [],
      "source": []
    },
    {
      "cell_type": "code",
      "execution_count": null,
      "metadata": {
        "id": "jT-jeaoBJpeH"
      },
      "outputs": [],
      "source": []
    },
    {
      "cell_type": "code",
      "execution_count": null,
      "metadata": {
        "id": "e193x7zZIR5A"
      },
      "outputs": [],
      "source": []
    },
    {
      "cell_type": "code",
      "execution_count": null,
      "metadata": {
        "id": "Iac-h5i_IR64"
      },
      "outputs": [],
      "source": []
    },
    {
      "cell_type": "code",
      "execution_count": null,
      "metadata": {
        "id": "A8lszT0hIR8z"
      },
      "outputs": [],
      "source": []
    },
    {
      "cell_type": "code",
      "execution_count": null,
      "metadata": {
        "id": "MMGiqAQ-IR_W"
      },
      "outputs": [],
      "source": []
    },
    {
      "cell_type": "code",
      "execution_count": null,
      "metadata": {
        "id": "pHy4RO-c36If"
      },
      "outputs": [],
      "source": [
        "instructors_len = len(instructors)\n",
        "number_enrolled_len = len(number_enrolled)\n",
        "duration_len = len(duration)\n",
        "Domaines_len = len(Domaines)\n",
        "sous_domaines_len = len(sous_domaines)\n",
        "chapters_listed_len = len(chapters_listed)\n",
        "SYG_listed_len = len(SYG_listed)\n",
        "course_descrip_len = len(course_descrip)\n",
        "organisation_offer_len = len(organisation_offer)\n",
        "course_titles_len = len(course_titles)\n",
        "review_len = len(review)\n",
        "number_reviews_len = len(number_reviews)\n",
        "difficulty_len = len(difficulty)\n",
        "courses_URLs_len = len(courses_URLs)\n",
        "\n",
        "# Print the lengths\n",
        "print(\"Length of Instructors:\", instructors_len)\n",
        "print(\"Length of Number Enrolled:\", number_enrolled_len)\n",
        "print(\"Length of Duration:\", duration_len)\n",
        "print(\"Length of Domaines:\", Domaines_len)\n",
        "print(\"Length of Sous Domaines:\", sous_domaines_len)\n",
        "print(\"Length of Chapters Listed:\", chapters_listed_len)\n",
        "print(\"Length of SYG Listed:\", SYG_listed_len)\n",
        "print(\"Length of Course Description:\", course_descrip_len)\n",
        "print(\"Length of Organization Offering:\", organisation_offer_len)\n",
        "print(\"Length of Course Titles:\", course_titles_len)\n",
        "print(\"Length of Review:\", review_len)\n",
        "print(\"Length of Number of Reviews:\", number_reviews_len)\n",
        "print(\"Length of Difficulty:\", difficulty_len)\n",
        "print(\"Length of Courses URLs:\", courses_URLs_len)\n"
      ]
    },
    {
      "cell_type": "code",
      "execution_count": null,
      "metadata": {
        "id": "vRHkcDeBpel0"
      },
      "outputs": [],
      "source": [
        "print(\"Length of course_descrip:\", len(course_descrip))\n",
        "print(\"Length of organisation_offer:\", len(organisation_offer))\n",
        "print(\"Length of course_titles:\", len(course_titles))\n",
        "print(\"Length of review:\", len(review))\n",
        "print(\"Length of number_reviews:\", len(number_reviews))\n",
        "print(\"Length of difficulty:\", len(difficulty))\n",
        "print(\"Length of courses_URLs:\", len(courses_URLs))\n"
      ]
    },
    {
      "cell_type": "markdown",
      "metadata": {
        "id": "nl_9wSeP39eo"
      },
      "source": [
        "# hmdlh 4"
      ]
    },
    {
      "cell_type": "code",
      "execution_count": null,
      "metadata": {
        "id": "pMdnogGb3-vZ"
      },
      "outputs": [],
      "source": [
        "import pandas as pd\n",
        "\n",
        "# Create a dictionary from your lists\n",
        "data = {\n",
        "    'Domaine': Domaines,\n",
        "    'Sous_domaine': sous_domaines,\n",
        "    'Sous_sous_domaine': course_titles,\n",
        "    'Duration': duration,\n",
        "    'Instructor': instructors,\n",
        "    'Number_people_enrolled': number_enrolled,\n",
        "    'stars': review,\n",
        "    'Number_of_Reviews': number_reviews,\n",
        "    'Chapters_course': chapters_listed,\n",
        "    'Skills_you_will_gain': SYG_listed,\n",
        "    'Course_description': course_descrip,\n",
        "    'Organization_Offering_course': organisation_offer,\n",
        "    'Difficulty': difficulty,\n",
        "    'Courses URLs': courses_URLs\n",
        "}\n",
        "\n",
        "# Create a DataFrame\n",
        "df = pd.DataFrame(data)\n",
        "\n"
      ]
    },
    {
      "cell_type": "code",
      "execution_count": null,
      "metadata": {
        "id": "nmfqozJPZXAI"
      },
      "outputs": [],
      "source": [
        "df.head(80)"
      ]
    },
    {
      "cell_type": "code",
      "execution_count": null,
      "metadata": {
        "id": "1X6lvYJvZXD3"
      },
      "outputs": [],
      "source": []
    },
    {
      "cell_type": "code",
      "execution_count": null,
      "metadata": {
        "id": "HyhKiN0h4JvI"
      },
      "outputs": [],
      "source": [
        "# Create a new dictionary to store the transformed data\n",
        "transformed_data = {}\n",
        "\n",
        "# Iterate through the existing data and structure it as desired\n",
        "for i in range(len(data['Domaine'])):\n",
        "    domaine = data['Domaine'][i]\n",
        "    sous_domaine = data['Sous_domaine'][i]\n",
        "    sous_sous_domaine = data['Sous_sous_domaine'][i]\n",
        "\n",
        "    if domaine not in transformed_data:\n",
        "        transformed_data[domaine] = {}\n",
        "\n",
        "    if sous_domaine not in transformed_data[domaine]:\n",
        "        transformed_data[domaine][sous_domaine] = {}\n",
        "\n",
        "    transformed_data[domaine][sous_domaine][sous_sous_domaine] = {\n",
        "        'Duration': data['Duration'][i],\n",
        "        'Instructor': data['Instructor'][i],\n",
        "        'Number_people_enrolled': data['Number_people_enrolled'][i],\n",
        "        'stars': data['stars'][i],\n",
        "        'Number_of_Reviews': data['Number_of_Reviews'][i],\n",
        "        'Chapters_course': data['Chapters_course'][i],\n",
        "        'Skills_you_will_gain': data['Skills_you_will_gain'][i],\n",
        "        'Course_description': data['Course_description'][i],\n",
        "        'Organization_Offering_course': data['Organization_Offering_course'][i],\n",
        "        'Difficulty': data['Difficulty'][i],\n",
        "        'Courses URLs': data['Courses URLs'][i]\n",
        "    }\n",
        "\n",
        "# Convert the transformed data to JSON format\n",
        "json_data = json.dumps(transformed_data, indent=4)\n",
        "\n",
        "# Print the JSON data\n",
        "print(json_data)\n",
        "\n",
        "file_path = \"ZZ_final_json_ZZ.json\"\n",
        "\n",
        "# Open the file for writing\n",
        "with open(file_path, \"w\") as json_file:\n",
        "    # Write the JSON data to the file\n",
        "    json.dump(transformed_data, json_file, indent=4)\n"
      ]
    },
    {
      "cell_type": "code",
      "execution_count": null,
      "metadata": {
        "id": "ZbVLS6P4ZaLm"
      },
      "outputs": [],
      "source": [
        "# Adapted script for generating CSV files\n",
        "import json\n",
        "\n",
        "def format_array_for_csv(array):\n",
        "    if isinstance(array, list):\n",
        "        return '\"' + ', '.join(array) + '\"'  # Enclose the array in quotes and join with commas\n",
        "    return array\n",
        "\n",
        "# Assuming the JSON structure and the rest of the code is the same\n",
        "\n",
        "input_filename = '/content/final_json.json'\n",
        "output_csv_formation_filename = 'formation_COURSERA.csv'\n",
        "output_csv_sous_formation_filename = 'sous_formation_COURSERA.csv'\n",
        "output_csv_sous_sous_formation_filename = 'sous_sous_formation_COURSERA.csv'\n",
        "\n",
        "# Headers for CSV files\n",
        "csv_formation_header = \"RefDomaine,DomaineDeFormation\\n\"\n",
        "csv_sous_formation_header = \"RefSousDomaine,RefDomaine,SousDomaineDeFormation\\n\"\n",
        "csv_sous_sous_formation_header = \"RefSOUSSOUSDomaineF,RefSOUSDomaineF,Le_nom,Descriptio,Notes,Nombre_avis,Duree,Nombre_participants,Niveau,Liens,Destinataires,Formateurs,Chapitre,Competences_gagnees,Organisation\\n\"\n",
        "\n",
        "with open(input_filename, 'r', encoding='utf-8') as json_file, \\\n",
        "     open(output_csv_formation_filename, 'w', encoding='utf-8') as csv_formation_file, \\\n",
        "     open(output_csv_sous_formation_filename, 'w', encoding='utf-8') as csv_sous_formation_file, \\\n",
        "     open(output_csv_sous_sous_formation_filename, 'w', encoding='utf-8') as csv_sous_sous_formation_file:\n",
        "\n",
        "    formations_dict = json.load(json_file)\n",
        "\n",
        "    # Write headers to CSV files\n",
        "    csv_formation_file.write(csv_formation_header)\n",
        "    csv_sous_formation_file.write(csv_sous_formation_header)\n",
        "    csv_sous_sous_formation_file.write(csv_sous_sous_formation_header)\n",
        "\n",
        "    numéro_formation = 1\n",
        "    numéro_sous_formation = 1\n",
        "    numéro_sous_sous_formation = 1\n",
        "\n",
        "    for formation, formation_info in formations_dict.items():\n",
        "        ref_domaine = f\"COURSERA_DomaineF-{numéro_formation:02}\"\n",
        "        formation_corrigée = formation.replace(\"'\", \"''\")\n",
        "        csv_formation_row = f\"{ref_domaine},{formation_corrigée}\\n\"\n",
        "        csv_formation_file.write(csv_formation_row)\n",
        "\n",
        "        for sous_formation, sous_formation_info in formation_info.items():\n",
        "            if sous_formation == 'info':\n",
        "                continue\n",
        "\n",
        "            ref_sous_domaine = ref_domaine + f\"-{numéro_sous_formation:02}\"\n",
        "            sous_formation_corrigée = sous_formation.replace(\"'\", \"''\")\n",
        "            csv_sous_formation_row = f\"{ref_sous_domaine},{ref_domaine},{sous_formation_corrigée}\\n\"\n",
        "            csv_sous_formation_file.write(csv_sous_formation_row)\n",
        "            numéro_sous_formation += 1\n",
        "\n",
        "            for sous_sous_formation, sous_sous_formation_info in sous_formation_info.items():\n",
        "                ref_sous_sous_domaine = ref_sous_domaine + f\"-{numéro_sous_sous_formation:02}\"\n",
        "                le_nom = sous_sous_formation.replace(\"'\", \"''\")  # Using the course name as Le_nom\n",
        "\n",
        "                for key in sous_sous_formation_info:\n",
        "                    if isinstance(sous_sous_formation_info[key], str):\n",
        "                        sous_sous_formation_info[key] = sous_sous_formation_info[key].replace(\"'\", \"''\")\n",
        "                    elif isinstance(sous_sous_formation_info[key], list):\n",
        "                        sous_sous_formation_info[key] = format_array_for_csv(sous_sous_formation_info[key])\n",
        "\n",
        "                csv_sous_sous_formation_row = (\n",
        "                    f\"{ref_sous_sous_domaine},{ref_sous_domaine},{le_nom},\"\n",
        "                    f\"{sous_sous_formation_info['Course_description']},{sous_sous_formation_info['stars']},\"\n",
        "                    f\"{sous_sous_formation_info['Number_of_Reviews']},{sous_sous_formation_info['Duration']},\"\n",
        "                    f\"{sous_sous_formation_info['Number_people_enrolled']},{sous_sous_formation_info['Difficulty']},\"\n",
        "                    f\"{sous_sous_formation_info['Courses URLs']},NULL,{sous_sous_formation_info['Instructor']},\"\n",
        "                    f\"{sous_sous_formation_info['Chapters_course']},{sous_sous_formation_info['Skills_you_will_gain']},\"\n",
        "                    f\"{sous_sous_formation_info['Organization_Offering_course']}\\n\"\n",
        "                )\n",
        "\n",
        "                csv_sous_sous_formation_file.write(csv_sous_sous_formation_row)\n",
        "\n"
      ]
    },
    {
      "cell_type": "code",
      "execution_count": null,
      "metadata": {
        "id": "Isrn8whEnv9K"
      },
      "outputs": [],
      "source": [
        "pip install nltk"
      ]
    },
    {
      "cell_type": "code",
      "execution_count": null,
      "metadata": {
        "id": "Ql9QWJDyqAxE"
      },
      "outputs": [],
      "source": [
        "pip install unidecode\n"
      ]
    },
    {
      "cell_type": "code",
      "execution_count": null,
      "metadata": {
        "id": "jd00ZygzgDEu"
      },
      "outputs": [],
      "source": [
        "import nltk\n",
        "from nltk.corpus import stopwords\n",
        "from unidecode import unidecode\n",
        "import re\n",
        "\n",
        "# Télécharger les stop words (à faire une fois)\n",
        "nltk.download('stopwords')\n",
        "\n",
        "def clean_course_name(course_name):\n",
        "    # Votre liste initiale de mots à exclure\n",
        "    custom_exclude_words = {\n",
        "        'et', 'des', 'les', 'de', 'la', 'le', 'en', 'du', 'pour', 'comment',\n",
        "        'avec', 'sans', 'sous', 'par', 'dans', 'sur', 'entre', 'contre', 'vers',\n",
        "        'après', 'avant', 'chez', 'pendant', 'depuis', 'jusque', 'jusqu', 'tandis',\n",
        "        'que', 'comme', 'si', 'lorsque', 'puisque', 'quoique', 'bien', 'ainsi'\n",
        "    }\n",
        "\n",
        "    # Stop words en français et en anglais\n",
        "    stop_words_fr = set(stopwords.words('french'))\n",
        "    stop_words_en = set(stopwords.words('english'))\n",
        "    exclude_words = custom_exclude_words.union(stop_words_fr, stop_words_en)\n",
        "\n",
        "    # Remplacer les caractères accentués\n",
        "#    course_name = unidecode.unidecode(course_name)\n",
        "\n",
        "    # Supprimer le caractère avant les guillemets doubles\n",
        "    course_name = re.sub(r\".''\", '', course_name)\n",
        "\n",
        "    # Convertir en minuscules, supprimer les caractères spéciaux (sauf les tirets, les barres obliques)\n",
        "    course_name = re.sub(r'[^A-Za-z\\s/-]', '', course_name.lower())\n",
        "\n",
        "    # Split sur les espaces, les tirets, et les barres obliques\n",
        "    words = re.split(r'[\\s/-]+', course_name)\n",
        "\n",
        "    # Filtrer les mots, les mettre au singulier si nécessaire et exclure les mots d'une lettre\n",
        "    filtered_words = [word for word in words if word not in exclude_words and len(word) > 1]\n",
        "\n",
        "    return \", \".join(filtered_words)\n",
        "\n",
        "\n",
        "# Exemple d'utilisation\n",
        "course_name = \"Commercial - Ventes\"\n",
        "cleaned_name = clean_course_name(course_name)\n",
        "print(cleaned_name)  # Devrait afficher une liste de mots clés nettoyés"
      ]
    },
    {
      "cell_type": "code",
      "execution_count": null,
      "metadata": {
        "id": "oODwbfg7f2df"
      },
      "outputs": [],
      "source": [
        "import csv\n",
        "\n",
        "# Noms des fichiers\n",
        "input_json_filename = '/content/final_json.json'  # Nom de votre fichier JSON\n",
        "output_sql_formation_filename = 'insert_formation.sql'\n",
        "output_sql_sous_formation_filename = 'insert_sous_formation.sql'\n",
        "output_sql_sous_sous_formation_filename = 'insert_sous_sous_formation.sql'\n",
        "output_csv_formation_filename = 'insert_formation.csv'\n",
        "output_csv_sous_formation_filename = 'insert_sous_formation.csv'\n",
        "output_csv_sous_sous_formation_filename = 'insert_sous_sous_formation.csv'\n",
        "\n",
        "# Ouvrir le fichier JSON pour lecture\n",
        "with open(input_json_filename, 'r', encoding='utf-8') as json_file:\n",
        "    formations_dict = json.load(json_file)\n",
        "\n",
        "# Ouvrir les fichiers SQL et CSV pour écriture\n",
        "with open(output_sql_formation_filename, 'w', encoding='utf-8') as sql_formation_file, \\\n",
        "     open(output_sql_sous_formation_filename, 'w', encoding='utf-8') as sql_sous_formation_file, \\\n",
        "     open(output_sql_sous_sous_formation_filename, 'w', encoding='utf-8') as sql_sous_sous_formation_file, \\\n",
        "     open(output_csv_formation_filename, 'w', newline='', encoding='utf-8') as csv_formation_file, \\\n",
        "     open(output_csv_sous_formation_filename, 'w', newline='', encoding='utf-8') as csv_sous_formation_file, \\\n",
        "     open(output_csv_sous_sous_formation_filename, 'w', newline='', encoding='utf-8') as csv_sous_sous_formation_file:\n",
        "\n",
        "\n",
        "    csv_formation_writer = csv.writer(csv_formation_file)\n",
        "    csv_sous_formation_writer = csv.writer(csv_sous_formation_file)\n",
        "    csv_sous_sous_formation_writer = csv.writer(csv_sous_sous_formation_file)\n",
        "\n",
        "    # Écrire les en-têtes pour chaque fichier CSV\n",
        "    csv_formation_writer.writerow(['RefDomaine', 'DomaineDeFormation','MotsCles'])\n",
        "    csv_sous_formation_writer.writerow(['RefSousDomaine', 'RefDomaine', 'SousDomaineDeFormation','MotsCles'])\n",
        "    csv_sous_sous_formation_writer.writerow(['RefSOUSSOUSDomaineF', 'RefSOUSDomaineF', 'Le_nom', 'Description', 'Notes', 'Nombre_avis', 'Duree', 'Niveau', 'Liens','MotsCles'])\n",
        "\n",
        "    numéro_formation = 1\n",
        "\n",
        "\n",
        "    for formation, formation_info in formations_dict.items():\n",
        "        numéro_sous_formation = 1\n",
        "        # Ref and corrected formation name\n",
        "        ref_domaine = f\"CEGOS_DomaineF-{numéro_formation:02}\"\n",
        "        formation_corrigée = formation.replace(\"'\", \"''\")\n",
        "\n",
        "        mots_clefs_formation = clean_course_name(formation_corrigée)\n",
        "\n",
        "        # SQL Insert\n",
        "        sql_formation_insert = f\"INSERT INTO DomaineFormation (RefDomaine, DomaineDeFormation,MotsCles) VALUES ('{ref_domaine}', '{formation_corrigée}','{mots_clefs_formation}');\\n\"\n",
        "        sql_formation_file.write(sql_formation_insert)\n",
        "\n",
        "        # CSV Insert\n",
        "        csv_formation_writer.writerow([ref_domaine, formation_corrigée,mots_clefs_formation])\n",
        "\n",
        "        for sous_formation, sous_formation_info in formation_info.items():\n",
        "\n",
        "            numéro_sous_sous_formation = 1\n",
        "            if sous_formation == 'info':\n",
        "                continue\n",
        "\n",
        "            # Ref and corrected sub-formation name\n",
        "            ref_sous_domaine = ref_domaine + f\"-{numéro_sous_formation:02}\"\n",
        "            sous_formation_corrigée = sous_formation.replace(\"'\", \"''\")\n",
        "\n",
        "            mots_clefs_sous_formation = clean_course_name(sous_formation_corrigée)\n",
        "            # SQL Insert\n",
        "            sql_sous_formation_insert = f\"INSERT INTO SousDomaineFormation (RefSousDomaine, RefDomaine, SousDomaineDeFormation, MotsCles) VALUES ('{ref_sous_domaine}', '{ref_domaine}', '{sous_formation_corrigée}','{mots_clefs_sous_formation}');\\n\"\n",
        "            sql_sous_formation_file.write(sql_sous_formation_insert)\n",
        "\n",
        "            # CSV Insert\n",
        "            csv_sous_formation_writer.writerow([ref_sous_domaine, ref_domaine, sous_formation_corrigée,mots_clefs_sous_formation])\n",
        "\n",
        "            numéro_sous_formation += 1\n",
        "\n",
        "            for sous_sous_formation, sous_sous_formation_info in sous_formation_info.items():\n",
        "                ref_sous_sous_domaine = ref_sous_domaine + f\"-{numéro_sous_sous_formation:02}\"\n",
        "                sous_sous_formation_corrigé = sous_sous_formation.replace(\"'\", \"''\")\n",
        "\n",
        "                mots_clefs_sous_sous_formation = clean_course_name(sous_sous_formation_corrigé)\n",
        "\n",
        "                # Replace apostrophes in each string value\n",
        "                for key in sous_sous_formation_info:\n",
        "                    if isinstance(sous_sous_formation_info[key], str):\n",
        "                        sous_sous_formation_info[key] = sous_sous_formation_info[key].replace(\"'\", \"''\")\n",
        "\n",
        "                # SQL Insert\n",
        "                sql_sous_sous_formation_insert = (\n",
        "                    \"INSERT INTO SOUSSOUSDomaineFormation \"\n",
        "                    \"(RefSOUSSOUSDomaineF, RefSOUSDomaineF, Le_nom, Description, Notes, Nombre_avis, Duree, Niveau, Liens, MotsCles) VALUES \"\n",
        "                    f\"('{ref_sous_sous_domaine}', '{ref_sous_domaine}', '{sous_sous_formation_corrigé}', '{sous_sous_formation_info['Descriptio']}', '{sous_sous_formation_info['note']}', '{sous_sous_formation_info['nombre_avis']}', '{sous_sous_formation_info['Duree']}', '{sous_sous_formation_info['niveau']}', '{sous_sous_formation_info['Lien']}','{mots_clefs_sous_sous_formation}');\\n\"\n",
        "                )\n",
        "                sql_sous_sous_formation_file.write(sql_sous_sous_formation_insert)\n",
        "\n",
        "                # CSV Insert\n",
        "                csv_sous_sous_formation_writer.writerow([ref_sous_sous_domaine, ref_sous_domaine, sous_sous_formation_corrigé, sous_sous_formation_info['Descriptio'], sous_sous_formation_info['note'], sous_sous_formation_info['nombre_avis'], sous_sous_formation_info['Duree'], sous_sous_formation_info['niveau'], sous_sous_formation_info['Lien'],mots_clefs_sous_sous_formation])\n",
        "\n",
        "                numéro_sous_sous_formation += 1\n",
        "\n",
        "        numéro_formation += 1\n"
      ]
    },
    {
      "cell_type": "markdown",
      "metadata": {
        "id": "mAVqrMrc4Ty7"
      },
      "source": [
        "#French Language ( selenium )"
      ]
    },
    {
      "cell_type": "code",
      "execution_count": null,
      "metadata": {
        "id": "mXgDywlC4WBm"
      },
      "outputs": [],
      "source": [
        "pip install selenium\n"
      ]
    },
    {
      "cell_type": "code",
      "execution_count": null,
      "metadata": {
        "id": "Sgvw_ww64WVj"
      },
      "outputs": [],
      "source": [
        "# Set up for running selenium in Google Colab\n",
        "## You don't need to run this code if you do it in Jupyter notebook, or other local Python setting\n",
        "%%shell\n",
        "sudo apt -y update\n",
        "sudo apt install -y wget curl unzip\n",
        "wget http://archive.ubuntu.com/ubuntu/pool/main/libu/libu2f-host/libu2f-udev_1.1.4-1_all.deb\n",
        "dpkg -i libu2f-udev_1.1.4-1_all.deb\n",
        "wget https://dl.google.com/linux/direct/google-chrome-stable_current_amd64.deb\n",
        "dpkg -i google-chrome-stable_current_amd64.deb\n",
        "CHROME_DRIVER_VERSION=`curl -sS chromedriver.storage.googleapis.com/LATEST_RELEASE`\n",
        "wget -N https://chromedriver.storage.googleapis.com/$CHROME_DRIVER_VERSION/chromedriver_linux64.zip -P /tmp/\n",
        "unzip -o /tmp/chromedriver_linux64.zip -d /tmp/\n",
        "chmod +x /tmp/chromedriver\n",
        "mv /tmp/chromedriver /usr/local/bin/chromedriver\n",
        "pip install selenium"
      ]
    },
    {
      "cell_type": "code",
      "execution_count": null,
      "metadata": {
        "id": "-RjX-UZpqZdl"
      },
      "outputs": [],
      "source": [
        "!pip install chromedriver-autoinstaller\n",
        "\n",
        "import sys\n",
        "sys.path.insert(0,'/usr/lib/chromium-browser/chromedriver')\n",
        "\n",
        "import time\n",
        "import pandas as pd\n",
        "from bs4 import BeautifulSoup\n",
        "from selenium import webdriver\n",
        "import chromedriver_autoinstaller\n",
        "\n",
        "# setup chrome options\n",
        "chrome_options = webdriver.ChromeOptions()\n",
        "chrome_options.add_argument('--headless') # ensure GUI is off\n",
        "chrome_options.add_argument('--no-sandbox')\n",
        "chrome_options.add_argument('--disable-dev-shm-usage')\n",
        "\n",
        "# set path to chromedriver as per your configuration\n",
        "chromedriver_autoinstaller.install()\n",
        "\n",
        "# set the target URL\n",
        "url = \"put-url-here-to-scrape\"\n",
        "\n",
        "# set up the webdriver\n",
        "driver = webdriver.Chrome(options=chrome_options)"
      ]
    },
    {
      "cell_type": "code",
      "execution_count": null,
      "metadata": {
        "id": "x1GJtc4NBwO-"
      },
      "outputs": [],
      "source": []
    },
    {
      "cell_type": "markdown",
      "metadata": {
        "id": "V660Gt1zBvFg"
      },
      "source": [
        "#FINISH"
      ]
    },
    {
      "cell_type": "code",
      "execution_count": null,
      "metadata": {
        "id": "Zp5Kp7T6CPRG"
      },
      "outputs": [],
      "source": [
        "pip install unidecode"
      ]
    },
    {
      "cell_type": "code",
      "execution_count": null,
      "metadata": {
        "id": "FWRExdo6CL_B"
      },
      "outputs": [],
      "source": [
        "import nltk\n",
        "from nltk.corpus import stopwords\n",
        "import re\n",
        "from unidecode import unidecode\n",
        "\n",
        "# Télécharger les stop words (à faire une fois)\n",
        "nltk.download('stopwords')\n",
        "\n",
        "def clean_course_name_coursera(course_name):\n",
        "    # Votre liste initiale de mots à exclure\n",
        "    custom_exclude_words = {\n",
        "        'et', 'des', 'les', 'de', 'la', 'le', 'en', 'du', 'pour', 'comment',\n",
        "        'avec', 'sans', 'sous', 'par', 'dans', 'sur', 'entre', 'contre', 'vers',\n",
        "        'après', 'avant', 'chez', 'pendant', 'depuis', 'jusque', 'jusqu', 'tandis',\n",
        "        'que', 'comme', 'si', 'lorsque', 'puisque', 'quoique', 'bien', 'ainsi'\n",
        "    }\n",
        "\n",
        "    # Stop words en français et en anglais\n",
        "    stop_words_fr = set(stopwords.words('french'))\n",
        "    stop_words_en = set(stopwords.words('english'))\n",
        "    exclude_words = custom_exclude_words.union(stop_words_fr, stop_words_en)\n",
        "\n",
        "    # Remplacer les caractères accentués\n",
        "    course_name = unidecode(course_name)\n",
        "\n",
        "\n",
        "    # Supprimer le caractère avant les guillemets doubles\n",
        "    course_name = re.sub(r\".''\", '', course_name)\n",
        "\n",
        "    # Convertir en minuscules, supprimer les caractères spéciaux (sauf les tirets, les barres obliques)\n",
        "    course_name = re.sub(r'[^A-Za-z\\s/-]', '', course_name.lower())\n",
        "\n",
        "    # Split sur les espaces, les tirets, et les barres obliques\n",
        "    words = re.split(r'[\\s/-]+', course_name)\n",
        "\n",
        "    # Filtrer les mots, les mettre au singulier si nécessaire et exclure les mots d'une lettre\n",
        "    filtered_words = [word for word in words if word not in exclude_words and len(word) > 1]\n",
        "\n",
        "    return \", \".join(filtered_words)"
      ]
    },
    {
      "cell_type": "code",
      "execution_count": null,
      "metadata": {
        "id": "lFlSUAg_Bxtm"
      },
      "outputs": [],
      "source": [
        "import csv\n",
        "import json\n",
        "\n",
        "\n",
        "# Define your JSON file name\n",
        "input_json_filename = '/content/(3600)_final_json_(3600).json'\n",
        "\n",
        "# Output file names\n",
        "output_sql_formation_filename = 'Z_3600_Coursera_insert_formation_3600.sql'\n",
        "output_sql_sous_formation_filename = 'Z_3600_Coursera_insert_sous_formation_3600.sql'\n",
        "output_sql_sous_sous_formation_filename = 'Z_3600_Coursera_nsert_sous_sous_formation_3600.sql'\n",
        "output_csv_formation_filename = 'Z_3600_Coursera_insert_formation_3600.csv'\n",
        "output_csv_sous_formation_filename = 'Z_3600_Coursera_insert_sous_formation_3600.csv'\n",
        "output_csv_sous_sous_formation_filename = 'Z_3600_Coursera_insert_sous_sous_formation_3600.csv'\n",
        "\n",
        "# Read JSON file\n",
        "with open(input_json_filename, 'r', encoding='utf-8') as json_file:\n",
        "    formations_dict = json.load(json_file)\n",
        "\n",
        "# Open SQL and CSV files for writing\n",
        "with open(output_sql_formation_filename, 'w', encoding='utf-8') as sql_formation_file, \\\n",
        "     open(output_sql_sous_formation_filename, 'w', encoding='utf-8') as sql_sous_formation_file, \\\n",
        "     open(output_sql_sous_sous_formation_filename, 'w', encoding='utf-8') as sql_sous_sous_formation_file, \\\n",
        "     open(output_csv_formation_filename, 'w', newline='', encoding='utf-8') as csv_formation_file, \\\n",
        "     open(output_csv_sous_formation_filename, 'w', newline='', encoding='utf-8') as csv_sous_formation_file, \\\n",
        "     open(output_csv_sous_sous_formation_filename, 'w', newline='', encoding='utf-8') as csv_sous_sous_formation_file:\n",
        "\n",
        "    # CSV Writers\n",
        "    csv_formation_writer = csv.writer(csv_formation_file)\n",
        "    csv_sous_formation_writer = csv.writer(csv_sous_formation_file)\n",
        "    csv_sous_sous_formation_writer = csv.writer(csv_sous_sous_formation_file)\n",
        "\n",
        "    # Write headers for each CSV file\n",
        "    csv_formation_writer.writerow(['RefDomaine', 'DomaineDeFormation', 'MotsCles'])\n",
        "    csv_sous_formation_writer.writerow(['RefSousDomaine', 'RefDomaine', 'SousDomaineDeFormation', 'MotsCles'])\n",
        "    csv_sous_sous_formation_writer.writerow(['RefSOUSSOUSDomaineF', 'RefSOUSDomaineF', 'Le_nom', 'Descriptio', 'Notes', 'Nombre_avis', 'Duree', 'Niveau', 'Liens', 'MotsCles'])\n",
        "\n",
        "    numero_formation = 1\n",
        "\n",
        "    for formation, sous_domaines in formations_dict.items():\n",
        "        ref_domaine = f\"COURSERA_DomaineF-{numero_formation:02}\"\n",
        "        formation_corrigee = formation.replace(\"'\", \"''\")\n",
        "        mots_clefs_formation = clean_course_name_coursera(formation_corrigee)\n",
        "\n",
        "        # SQL and CSV for formation\n",
        "        sql_formation_insert = f\"INSERT INTO DomaineFormation (RefDomaine, DomaineDeFormation, MotsCles) VALUES ('{ref_domaine}', '{formation_corrigee}', '{mots_clefs_formation}');\\n\"\n",
        "        sql_formation_file.write(sql_formation_insert)\n",
        "        csv_formation_writer.writerow([ref_domaine, formation_corrigee, mots_clefs_formation])\n",
        "\n",
        "        numero_sous_formation = 1\n",
        "        for sous_formation, cours in sous_domaines.items():\n",
        "            ref_sous_domaine = f\"{ref_domaine}-{numero_sous_formation:02}\"\n",
        "            sous_formation_corrigee = sous_formation.replace(\"'\", \"''\")\n",
        "            mots_clefs_sous_formation = clean_course_name_coursera(sous_formation_corrigee)\n",
        "\n",
        "            # SQL and CSV for sous_formation\n",
        "            sql_sous_formation_insert = f\"INSERT INTO SousDomaineFormation (RefSousDomaine, RefDomaine, SousDomaineDeFormation, MotsCles) VALUES ('{ref_sous_domaine}', '{ref_domaine}', '{sous_formation_corrigee}', '{mots_clefs_sous_formation}');\\n\"\n",
        "            sql_sous_formation_file.write(sql_sous_formation_insert)\n",
        "            csv_sous_formation_writer.writerow([ref_sous_domaine, ref_domaine, sous_formation_corrigee, mots_clefs_sous_formation])\n",
        "\n",
        "            numero_sous_sous_formation = 1\n",
        "            for cours_nom, cours_info in cours.items():\n",
        "                ref_sous_sous_domaine = f\"{ref_sous_domaine}-{numero_sous_sous_formation:02}\"\n",
        "                cours_nom_corrigé = cours_nom.replace(\"'\", \"''\")\n",
        "                mots_clefs_cours = clean_course_name_coursera(cours_nom_corrigé)\n",
        "\n",
        "                # Prepare data for SQL and CSV\n",
        "                description = cours_info.get('Course_description', '').replace(\"'\", \"''\")\n",
        "                notes = cours_info.get('stars', '')\n",
        "                nombre_avis = cours_info.get('Number_of_Reviews', '').replace('avis', '').strip()\n",
        "                duree = cours_info.get('Duration', '')\n",
        "                niveau = cours_info.get('Difficulty', '')\n",
        "                liens = cours_info.get('Courses URLs', '')\n",
        "\n",
        "                # SQL and CSV for sous_sous_formation\n",
        "                sql_sous_sous_formation_insert = f\"INSERT INTO SOUSSOUSDomaineFormation (RefSOUSSOUSDomaineF, RefSOUSDomaineF, Le_nom, Descriptio, Notes, Nombre_avis, Duree, Niveau, Liens, MotsCles) VALUES ('{ref_sous_sous_domaine}', '{ref_sous_domaine}', '{cours_nom_corrigé}', '{description}', '{notes}', '{nombre_avis}', '{duree}', '{niveau}', '{liens}', '{mots_clefs_cours}');\\n\"\n",
        "                sql_sous_sous_formation_file.write(sql_sous_sous_formation_insert)\n",
        "                csv_sous_sous_formation_writer.writerow([ref_sous_sous_domaine, ref_sous_domaine, cours_nom_corrigé, description, notes, nombre_avis, duree, niveau, liens, mots_clefs_cours])\n",
        "\n",
        "                numero_sous_sous_formation += 1\n",
        "\n",
        "            numero_sous_formation += 1\n",
        "\n",
        "        numero_formation += 1"
      ]
    },
    {
      "cell_type": "markdown",
      "metadata": {
        "id": "997xvjXsBwuH"
      },
      "source": [
        "#FINISH\n"
      ]
    },
    {
      "cell_type": "code",
      "execution_count": null,
      "metadata": {
        "id": "22QLAJCJqZfk"
      },
      "outputs": [],
      "source": []
    },
    {
      "cell_type": "code",
      "execution_count": null,
      "metadata": {
        "id": "ekiFPLLUqZhd"
      },
      "outputs": [],
      "source": []
    },
    {
      "cell_type": "code",
      "execution_count": null,
      "metadata": {
        "id": "MCAWrCoMqZjQ"
      },
      "outputs": [],
      "source": []
    },
    {
      "cell_type": "code",
      "execution_count": null,
      "metadata": {
        "id": "aZjqyUjgqZlE"
      },
      "outputs": [],
      "source": []
    },
    {
      "cell_type": "code",
      "execution_count": null,
      "metadata": {
        "id": "jZZUGs8FqZnI"
      },
      "outputs": [],
      "source": []
    },
    {
      "cell_type": "code",
      "execution_count": null,
      "metadata": {
        "id": "6DIm-5vyqZox"
      },
      "outputs": [],
      "source": []
    },
    {
      "cell_type": "code",
      "execution_count": null,
      "metadata": {
        "id": "xpd_8z014WXj"
      },
      "outputs": [],
      "source": []
    },
    {
      "cell_type": "code",
      "execution_count": null,
      "metadata": {
        "id": "zVmGD1dh4WZr"
      },
      "outputs": [],
      "source": []
    }
  ],
  "metadata": {
    "colab": {
      "provenance": []
    },
    "kernelspec": {
      "display_name": "Python 3",
      "language": "python",
      "name": "python3"
    },
    "language_info": {
      "codemirror_mode": {
        "name": "ipython",
        "version": 3
      },
      "file_extension": ".py",
      "mimetype": "text/x-python",
      "name": "python",
      "nbconvert_exporter": "python",
      "pygments_lexer": "ipython3",
      "version": "3.11.4"
    }
  },
  "nbformat": 4,
  "nbformat_minor": 0
}
