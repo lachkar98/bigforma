{
 "cells": [
  {
   "cell_type": "code",
   "execution_count": 110,
   "id": "c8682549-e4e3-492d-8c11-024cd40b05c1",
   "metadata": {},
   "outputs": [
    {
     "name": "stdout",
     "output_type": "stream",
     "text": [
      "Connexion réussie à la base de données Oracle\n",
      "confiance\n",
      "confiance, soi, best\n",
      "creer, climat, confiance, clients\n",
      "bases, retrouver, confiance, memoire, full, digital, heures, avis\n",
      "Connexion à la base de données fermée\n"
     ]
    }
   ],
   "source": [
    "import cx_Oracle\n",
    "#from spellchecker import SpellChecker\n",
    "\n",
    "# Créer un objet SpellChecker pour le français\n",
    "#spell = SpellChecker(language='fr')\n",
    "\n",
    "# Paramètres de connexion\n",
    "username = \"SYS\"\n",
    "password = \"2000\"\n",
    "hostname = \"localhost\"\n",
    "port = \"1521\"\n",
    "sid = \"xe\"\n",
    "\n",
    "# Création de la chaîne DSN\n",
    "dsn = cx_Oracle.makedsn(hostname, port, sid=sid)\n",
    "\n",
    "# Connexion à la base de données\n",
    "try:\n",
    "    connection = cx_Oracle.connect(username, password, dsn, mode=cx_Oracle.SYSDBA)\n",
    "    print(\"Connexion réussie à la base de données Oracle\")\n",
    "\n",
    "    # Création d'un curseur\n",
    "    cursor = connection.cursor()\n",
    "\n",
    "    # Activer DBMS_OUTPUT\n",
    "    cursor.callproc(\"dbms_output.enable\")\n",
    "\n",
    "\n",
    "\n",
    "    # Keyword original\n",
    "    keyword = 'confiance'\n",
    " \n",
    "    corrected_keyword = clean_sentence(keyword)\n",
    "    print(corrected_keyword)\n",
    "    cursor.execute(\"\"\"\n",
    "DECLARE\n",
    "\n",
    "    c SYS_REFCURSOR;\n",
    "    result_row VARCHAR2(4000);\n",
    "BEGIN\n",
    "    c := search_phrase('SOUSSOUSDomaineFormation', 'Motscles', :keyword);\n",
    "\n",
    "    LOOP\n",
    "        FETCH c INTO result_row;\n",
    "        EXIT WHEN c%NOTFOUND;\n",
    "        DBMS_OUTPUT.PUT_LINE(result_row);\n",
    "    END LOOP;\n",
    "\n",
    "    CLOSE c;\n",
    "END;\n",
    "\n",
    "    \"\"\", keyword=corrected_keyword)\n",
    "\n",
    "    # Récupérer et afficher les lignes de DBMS_OUTPUT\n",
    "    statusVar = cursor.var(cx_Oracle.NUMBER)\n",
    "    lineVar = cursor.var(cx_Oracle.STRING)\n",
    "    while True:\n",
    "        cursor.callproc(\"dbms_output.get_line\", (lineVar, statusVar))\n",
    "        if statusVar.getvalue() != 0:\n",
    "            break\n",
    "        print(lineVar.getvalue())\n",
    "\n",
    "    # Fermeture du curseur\n",
    "    cursor.close()\n",
    "\n",
    "except cx_Oracle.DatabaseError as e:\n",
    "    print(\"Erreur lors de la connexion à la base de données\", e)\n",
    "\n",
    "finally:\n",
    "    # Fermeture de la connexion\n",
    "    if connection:\n",
    "        connection.close()\n",
    "        print(\"Connexion à la base de données fermée\")\n"
   ]
  },
  {
   "cell_type": "code",
   "execution_count": null,
   "id": "b06252f9-2068-4583-8169-341c15a5c9c1",
   "metadata": {},
   "outputs": [],
   "source": []
  }
 ],
 "metadata": {
  "kernelspec": {
   "display_name": "Python 3 (ipykernel)",
   "language": "python",
   "name": "python3"
  },
  "language_info": {
   "codemirror_mode": {
    "name": "ipython",
    "version": 3
   },
   "file_extension": ".py",
   "mimetype": "text/x-python",
   "name": "python",
   "nbconvert_exporter": "python",
   "pygments_lexer": "ipython3",
   "version": "3.10.4"
  }
 },
 "nbformat": 4,
 "nbformat_minor": 5
}
