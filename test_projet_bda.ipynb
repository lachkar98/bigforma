{
 "cells": [
  {
   "cell_type": "code",
   "execution_count": 7,
   "id": "b06252f9-2068-4583-8169-341c15a5c9c1",
   "metadata": {},
   "outputs": [
    {
     "name": "stdout",
     "output_type": "stream",
     "text": [
      "commercial, ventes\n"
     ]
    }
   ],
   "source": [
    "import nltk\n",
    "from nltk.corpus import stopwords\n",
    "import unidecode\n",
    "# Télécharger les stop words (à faire une fois)\n",
    "# nltk.download('stopwords')\n",
    "import re\n",
    "def clean_sentence(sentence):\n",
    "    # Votre liste initiale de mots à exclure\n",
    "    custom_exclude_words = {\n",
    "        'et', 'des', 'les', 'de', 'la', 'le', 'en', 'du', 'pour', 'comment',\n",
    "        'avec', 'sans', 'sous', 'par', 'dans', 'sur', 'entre', 'contre', 'vers',\n",
    "        'après', 'avant', 'chez', 'pendant', 'depuis', 'jusque', 'jusqu', 'tandis',\n",
    "        'que', 'comme', 'si', 'lorsque', 'puisque', 'quoique', 'bien', 'ainsi'\n",
    "    }\n",
    "\n",
    "    # Stop words en français et en anglais\n",
    "    stop_words_fr = set(stopwords.words('french'))\n",
    "    stop_words_en = set(stopwords.words('english'))\n",
    "    exclude_words = custom_exclude_words.union(stop_words_fr, stop_words_en)\n",
    "\n",
    "    # Remplacer les caractères accentués\n",
    "    sentence = unidecode.unidecode(sentence)\n",
    "\n",
    "    # Supprimer le caractère avant les guillemets doubles\n",
    "    sentence = re.sub(r\".''\", '', sentence)\n",
    "\n",
    "    # Convertir en minuscules, supprimer les caractères spéciaux (sauf les tirets, les barres obliques)\n",
    "    sentence = re.sub(r'[^A-Za-z\\s/-]', '', sentence.lower())\n",
    "\n",
    "    # Split sur les espaces, les tirets, et les barres obliques\n",
    "    words = re.split(r'[\\s/-]+', sentence)\n",
    "\n",
    "    # Filtrer les mots, les mettre au singulier si nécessaire et exclure les mots d'une lettre\n",
    "    filtered_words = [word for word in words if word not in exclude_words and len(word) > 1]\n",
    "\n",
    "    return \", \".join(filtered_words)\n",
    "\n",
    "\n",
    "# Exemple d'utilisation\n",
    "sentence = \"Commercial - Ventes\"\n",
    "cleaned_name = clean_sentence(sentence)\n",
    "print(cleaned_name)  # Devrait afficher une liste de mots clés nettoyés"
   ]
  },
  {
   "cell_type": "code",
   "execution_count": null,
   "id": "0a81d5d2-346f-4e87-8a38-f464a36bb024",
   "metadata": {},
   "outputs": [],
   "source": [
    "pip install spacy\n",
    "python -m spacy download fr_core_news_sm"
   ]
  },
  {
   "cell_type": "code",
   "execution_count": 56,
   "id": "b8301960-c906-42f0-a939-cfec04999226",
   "metadata": {},
   "outputs": [
    {
     "name": "stdout",
     "output_type": "stream",
     "text": [
      "debuter pozer bi\n"
     ]
    }
   ],
   "source": [
    "import spacy\n",
    "from spacy.lang.fr.stop_words import STOP_WORDS as fr_stop\n",
    "\n",
    "# Charger le modèle français\n",
    "nlp = spacy.load(\"fr_core_news_sm\")\n",
    "\n",
    "def filter_keywords_spacy(sentence):\n",
    "    # Tokenize la phrase avec Spacy\n",
    "    doc = nlp(sentence)\n",
    "\n",
    "\n",
    "    # Filtrer les stop words et les mots non significatifs, sauf pour les exceptions\n",
    "    keywords = [token.text for token in doc if (token.text.lower() not in fr_stop and token.pos_ in [\"ADJ\",\"NOUN\", \"VERB\", \"PROPN\"])]\n",
    "\n",
    "    return ' '.join(keywords)\n",
    "\n",
    "# Exemple d'utilisation\n",
    "sentence = \"comment debuter en pozer bi\"\n",
    "result = filter_keywords_spacy(sentence)\n",
    "print(result)\n"
   ]
  },
  {
   "cell_type": "code",
   "execution_count": 71,
   "id": "c8682549-e4e3-492d-8c11-024cd40b05c1",
   "metadata": {},
   "outputs": [
    {
     "name": "stdout",
     "output_type": "stream",
     "text": [
      "Connexion réussie à la base de données Oracle\n",
      "\n",
      "\n",
      "Power BI Desktop - Analyse de données et tableaux de bord Best\n",
      "Power BI - Avancé New\n",
      "Power BI Desktop - Analyse de données et tableaux de bord Best\n",
      "\n",
      "\n",
      "Connexion à la base de données fermée\n"
     ]
    }
   ],
   "source": [
    "import cx_Oracle\n",
    "\n",
    "# Paramètres de connexion\n",
    "username = \"SYS\"\n",
    "password = \"2000\"\n",
    "hostname = \"localhost\"\n",
    "port = \"1521\"\n",
    "sid = \"xe\"\n",
    "\n",
    "# Création de la chaîne DSN\n",
    "dsn = cx_Oracle.makedsn(hostname, port, sid=sid)\n",
    "\n",
    "try:\n",
    "    # Connexion à la base de données\n",
    "    connection = cx_Oracle.connect(username, password, dsn, mode=cx_Oracle.SYSDBA)\n",
    "    print(\"Connexion réussie à la base de données Oracle\")\n",
    "\n",
    "    # Création d'un curseur\n",
    "    cursor = connection.cursor()\n",
    "\n",
    "    # Activer DBMS_OUTPUT\n",
    "    cursor.callproc(\"dbms_output.enable\")\n",
    "\n",
    "    # Keyword original\n",
    "    keyword = 'pozer bi'\n",
    " \n",
    "    # Vous devrez définir ici la fonction filter_keywords_spacy\n",
    "    corrected_keyword = filter_keywords_spacy(keyword)\n",
    "    print(\"\\n\")\n",
    "\n",
    "    # Exécution de la procédure stockée\n",
    "    cursor.execute(\"\"\"\n",
    "    DECLARE\n",
    "        resultat VARCHAR2(32767);\n",
    "    BEGIN\n",
    "        resultat := trouver_lignes_avec_mots_similaires(:keyword);\n",
    "        DBMS_OUTPUT.PUT_LINE(resultat);\n",
    "    END;\n",
    "    \"\"\", keyword=corrected_keyword)\n",
    "    \n",
    "    # Liste pour stocker les résultats de DBMS_OUTPUT\n",
    "    results = []\n",
    "\n",
    "    # Récupérer et ajouter les lignes de DBMS_OUTPUT à la liste\n",
    "    statusVar = cursor.var(cx_Oracle.NUMBER)\n",
    "    lineVar = cursor.var(cx_Oracle.STRING)\n",
    "    while True:\n",
    "        cursor.callproc(\"dbms_output.get_line\", (lineVar, statusVar))\n",
    "        if statusVar.getvalue() != 0:\n",
    "            break\n",
    "        results.append(lineVar.getvalue())\n",
    "\n",
    "    # Traiter les résultats si non vides\n",
    "    if results[0]:\n",
    "        # Diviser la première chaîne de caractères en utilisant ';' comme séparateur\n",
    "        results = results[0].split(';')\n",
    "        \n",
    "        # Supprimer les espaces blancs et les chaînes vides de la liste\n",
    "        results = [item.strip() for item in results if item.strip()]\n",
    "\n",
    "        # Afficher les résultats\n",
    "        for line in results:\n",
    "            print(line)\n",
    "    else:\n",
    "        print(\"Pas de lignes trouvées\")\n",
    "\n",
    "    print(\"\\n\")\n",
    "    # Fermeture du curseur\n",
    "    cursor.close()\n",
    "    \n",
    "except cx_Oracle.DatabaseError as e:\n",
    "    print(\"Erreur lors de la connexion à la base de données\", e)\n",
    "\n",
    "finally:\n",
    "    # Fermeture de la connexion\n",
    "    if connection:\n",
    "        connection.close()\n",
    "        print(\"Connexion à la base de données fermée\")\n"
   ]
  },
  {
   "cell_type": "code",
   "execution_count": null,
   "id": "b208d5d7-8d4d-4417-810a-a4e6cb4c88c7",
   "metadata": {},
   "outputs": [],
   "source": []
  }
 ],
 "metadata": {
  "kernelspec": {
   "display_name": "Python 3 (ipykernel)",
   "language": "python",
   "name": "python3"
  },
  "language_info": {
   "codemirror_mode": {
    "name": "ipython",
    "version": 3
   },
   "file_extension": ".py",
   "mimetype": "text/x-python",
   "name": "python",
   "nbconvert_exporter": "python",
   "pygments_lexer": "ipython3",
   "version": "3.10.4"
  }
 },
 "nbformat": 4,
 "nbformat_minor": 5
}
